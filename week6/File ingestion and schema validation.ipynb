{
 "cells": [
  {
   "cell_type": "markdown",
   "id": "94eb9d37",
   "metadata": {},
   "source": [
    "# 1. File ingestion"
   ]
  },
  {
   "cell_type": "markdown",
   "id": "18375906",
   "metadata": {},
   "source": [
    "## 1.1 Pandas"
   ]
  },
  {
   "cell_type": "code",
   "execution_count": 42,
   "id": "a30603b8",
   "metadata": {},
   "outputs": [
    {
     "name": "stdout",
     "output_type": "stream",
     "text": [
      "total_time:40.616086\n"
     ]
    }
   ],
   "source": [
    "import pandas as pd\n",
    "import time\n",
    "\n",
    "start=time.time()\n",
    "df=pd.read_csv('demo1.csv')\n",
    "end=time.time()\n",
    "\n",
    "print('total_time:%f'%(end-start))"
   ]
  },
  {
   "cell_type": "markdown",
   "id": "8cd461db",
   "metadata": {},
   "source": [
    "### Bracket removal fuction of column names"
   ]
  },
  {
   "cell_type": "code",
   "execution_count": 43,
   "id": "a32eb7bf",
   "metadata": {},
   "outputs": [],
   "source": [
    "def remove_bracket(x):\n",
    "    start=0\n",
    "    end=0\n",
    "    for i in range(len(x)):\n",
    "        if x[i]=='(':\n",
    "            start=i\n",
    "        elif x[i]==')':\n",
    "            end=i\n",
    "            \n",
    "    if start!=end:\n",
    "        y=x.replace(x[start:end+1],'')\n",
    "        return y\n",
    "    \n",
    "    else:\n",
    "        return x"
   ]
  },
  {
   "cell_type": "code",
   "execution_count": 44,
   "id": "820512d7",
   "metadata": {},
   "outputs": [
    {
     "data": {
      "text/plain": [
       "Index(['Unnamed: 0', 'ym(Year + month)', 'exp_imp(export: 1, import: 2)',\n",
       "       'hs9(HS code)', 'Customs', 'Country', 'Q1(quantity)', 'Q2(quantity)',\n",
       "       'Value(in thousands of yen)'],\n",
       "      dtype='object')"
      ]
     },
     "execution_count": 44,
     "metadata": {},
     "output_type": "execute_result"
    }
   ],
   "source": [
    "df.columns"
   ]
  },
  {
   "cell_type": "code",
   "execution_count": 45,
   "id": "d3ba8c01",
   "metadata": {},
   "outputs": [
    {
     "name": "stdout",
     "output_type": "stream",
     "text": [
      "CPU times: total: 1.41 s\n",
      "Wall time: 1.41 s\n"
     ]
    },
    {
     "data": {
      "text/plain": [
       "Index(['ym', 'exp_imp', 'hs9', 'Customs', 'Country', 'Q1', 'Q2', 'Value'], dtype='object')"
      ]
     },
     "execution_count": 45,
     "metadata": {},
     "output_type": "execute_result"
    }
   ],
   "source": [
    "%%time\n",
    "df=df.drop(columns=['Unnamed: 0'])\n",
    "df.rename(columns=lambda x : remove_bracket(x),inplace=True)\n",
    "df.columns"
   ]
  },
  {
   "cell_type": "markdown",
   "id": "9da0bc5a",
   "metadata": {},
   "source": [
    "## 1.2 Dask"
   ]
  },
  {
   "cell_type": "code",
   "execution_count": 62,
   "id": "dbfa0664",
   "metadata": {},
   "outputs": [
    {
     "name": "stdout",
     "output_type": "stream",
     "text": [
      "total_time:0.010990\n"
     ]
    }
   ],
   "source": [
    "import dask.dataframe as dd\n",
    "import time\n",
    "\n",
    "start=time.time()\n",
    "ddf=dd.read_csv('demo1.csv')\n",
    "end=time.time()\n",
    "\n",
    "print('total_time:%f'%(end-start))"
   ]
  },
  {
   "cell_type": "code",
   "execution_count": 63,
   "id": "796bc18c",
   "metadata": {},
   "outputs": [
    {
     "data": {
      "text/plain": [
       "Index(['Unnamed: 0', 'ym(Year + month)', 'exp_imp(export: 1, import: 2)',\n",
       "       'hs9(HS code)', 'Customs', 'Country', 'Q1(quantity)', 'Q2(quantity)',\n",
       "       'Value(in thousands of yen)'],\n",
       "      dtype='object')"
      ]
     },
     "execution_count": 63,
     "metadata": {},
     "output_type": "execute_result"
    }
   ],
   "source": [
    "ddf.columns"
   ]
  },
  {
   "cell_type": "code",
   "execution_count": 64,
   "id": "b3640ad0",
   "metadata": {},
   "outputs": [
    {
     "name": "stdout",
     "output_type": "stream",
     "text": [
      "CPU times: total: 0 ns\n",
      "Wall time: 8.99 ms\n"
     ]
    },
    {
     "data": {
      "text/plain": [
       "Index(['ym', 'exp_imp', 'hs9', 'Customs', 'Country', 'Q1', 'Q2', 'Value'], dtype='object')"
      ]
     },
     "execution_count": 64,
     "metadata": {},
     "output_type": "execute_result"
    }
   ],
   "source": [
    "%%time\n",
    "ddf=ddf.drop(columns=['Unnamed: 0'])\n",
    "ddf=ddf.rename(columns=lambda x : remove_bracket(x))\n",
    "ddf.columns"
   ]
  },
  {
   "cell_type": "markdown",
   "id": "c9c9cdaa",
   "metadata": {},
   "source": [
    "## 1.3 Modin"
   ]
  },
  {
   "cell_type": "code",
   "execution_count": 11,
   "id": "0e44e8ae",
   "metadata": {},
   "outputs": [
    {
     "name": "stdout",
     "output_type": "stream",
     "text": [
      "total_time:24.728534\n"
     ]
    }
   ],
   "source": [
    "import modin.pandas as mpd\n",
    "import time\n",
    "\n",
    "start=time.time()\n",
    "mdf=mpd.read_csv('demo1.csv')\n",
    "end=time.time()\n",
    "\n",
    "print('total_time:%f'%(end-start))"
   ]
  },
  {
   "cell_type": "code",
   "execution_count": 67,
   "id": "9dd07474",
   "metadata": {},
   "outputs": [
    {
     "name": "stdout",
     "output_type": "stream",
     "text": [
      "CPU times: total: 15.6 ms\n",
      "Wall time: 13 ms\n"
     ]
    },
    {
     "data": {
      "text/plain": [
       "Index(['ym', 'exp_imp', 'hs9', 'Customs', 'Country', 'Q1', 'Q2', 'Value'], dtype='object')"
      ]
     },
     "execution_count": 67,
     "metadata": {},
     "output_type": "execute_result"
    }
   ],
   "source": [
    "%%time\n",
    "mdf=mdf.drop(columns=['Unnamed: 0'])\n",
    "mdf=mdf.rename(columns=lambda x : remove_bracket(x))\n",
    "mdf.columns"
   ]
  },
  {
   "cell_type": "markdown",
   "id": "2d86b13d",
   "metadata": {},
   "source": [
    "## 1.4 Ray"
   ]
  },
  {
   "cell_type": "code",
   "execution_count": 13,
   "id": "83d14e97",
   "metadata": {},
   "outputs": [
    {
     "name": "stderr",
     "output_type": "stream",
     "text": [
      "2022-10-29 21:17:31,636\tWARNING read_api.py:280 -- ⚠️  The blocks of this dataset are estimated to be 4.0x larger than the target block size of 512 MiB. This may lead to out-of-memory errors during processing. Consider reducing the size of input files or using `.repartition(n)` to increase the number of dataset blocks.\n"
     ]
    },
    {
     "name": "stdout",
     "output_type": "stream",
     "text": [
      "total_time:36.774528\n"
     ]
    }
   ],
   "source": [
    "import ray\n",
    "import time\n",
    "\n",
    "start=time.time()\n",
    "rdf=ray.data.read_csv('demo1.csv')\n",
    "end=time.time()\n",
    "\n",
    "print('total_time:%f'%(end-start))"
   ]
  },
  {
   "cell_type": "code",
   "execution_count": 73,
   "id": "a509efc2",
   "metadata": {},
   "outputs": [
    {
     "data": {
      "text/plain": [
       "Dataset(num_blocks=1, num_rows=50047277, schema={: int64, ym(Year + month): int64, exp_imp(export: 1, import: 2): int64, hs9(HS code): int64, Customs: int64, Country: int64, Q1(quantity): int64, Q2(quantity): int64, Value(in thousands of yen): int64})"
      ]
     },
     "execution_count": 73,
     "metadata": {},
     "output_type": "execute_result"
    }
   ],
   "source": [
    "rdf"
   ]
  },
  {
   "cell_type": "markdown",
   "id": "f47a9117",
   "metadata": {},
   "source": [
    "# 2. Schema validation"
   ]
  },
  {
   "cell_type": "markdown",
   "id": "0466e38d",
   "metadata": {},
   "source": [
    "## 2.1 Yaml"
   ]
  },
  {
   "cell_type": "code",
   "execution_count": 75,
   "id": "3a906921",
   "metadata": {},
   "outputs": [
    {
     "name": "stdout",
     "output_type": "stream",
     "text": [
      "Writing file.yaml\n"
     ]
    }
   ],
   "source": [
    "%%writefile file.yaml\n",
    "file_type: csv\n",
    "file_name: demo1\n",
    "inbound_delimiter: \",\"\n",
    "outbound_delimiter: \"|\"\n",
    "skip_leading_rows: 1\n",
    "columns: \n",
    "    - ym(Year + month)\n",
    "    - Country\n",
    "    - City"
   ]
  },
  {
   "cell_type": "markdown",
   "id": "978994e5",
   "metadata": {},
   "source": [
    "## 2.2 Utility"
   ]
  },
  {
   "cell_type": "code",
   "execution_count": 89,
   "id": "c7f7aeb4",
   "metadata": {},
   "outputs": [
    {
     "name": "stdout",
     "output_type": "stream",
     "text": [
      "Overwriting testutility.py\n"
     ]
    }
   ],
   "source": [
    "%%writefile testutility.py\n",
    "import logging\n",
    "import os\n",
    "import subprocess\n",
    "import yaml\n",
    "import pandas as pd\n",
    "import datetime \n",
    "import gc\n",
    "import re\n",
    "\n",
    "\n",
    "################\n",
    "# File Reading #\n",
    "################\n",
    "\n",
    "def read_config_file(filepath):\n",
    "    with open(filepath, 'r') as stream:\n",
    "        try:\n",
    "            return yaml.safe_load(stream)\n",
    "        except yaml.YAMLError as exc:\n",
    "            logging.error(exc)\n",
    "\n",
    "\n",
    "def replacer(string, char):\n",
    "    pattern = char + '{2,}'\n",
    "    string = re.sub(pattern, char, string) \n",
    "    return string\n",
    "\n",
    "def col_header_val(df,table_config):\n",
    "    '''\n",
    "    replace whitespaces in the column\n",
    "    and standardized column names\n",
    "    '''\n",
    "    df.columns = df.columns.str.lower()\n",
    "    df.columns = df.columns.str.replace('[^\\w]','_',regex=True)\n",
    "    df.columns = list(map(lambda x: x.strip('_'), list(df.columns)))\n",
    "    df.columns = list(map(lambda x: replacer(x,'_'), list(df.columns)))\n",
    "    expected_col = list(map(lambda x: x.lower(),  table_config['columns']))\n",
    "    expected_col.sort()\n",
    "    df.columns =list(map(lambda x: x.lower(), list(df.columns)))\n",
    "    \n",
    "    df = df.reindex(sorted(df.columns), axis=1)\n",
    "    if len(df.columns) == len(expected_col) and list(expected_col)  == list(df.columns):\n",
    "        print(\"column name and column length validation passed\")\n",
    "        return 1\n",
    "    else:\n",
    "        print(\"column name and column length validation failed\")\n",
    "        mismatched_columns_file = list(set(df.columns).difference(expected_col))\n",
    "        print(\"Following File columns are not in the YAML file\",mismatched_columns_file)\n",
    "        missing_YAML_file = list(set(expected_col).difference(df.columns))\n",
    "        print(\"Following YAML columns are not in the file uploaded\",missing_YAML_file)\n",
    "        logging.info(f'df columns: {df.columns}')\n",
    "        logging.info(f'expected columns: {expected_col}')\n",
    "        return 0"
   ]
  },
  {
   "cell_type": "code",
   "execution_count": 85,
   "id": "34e9bb6a",
   "metadata": {},
   "outputs": [],
   "source": [
    "# Read config file\n",
    "import testutility as util\n",
    "config_data = util.read_config_file(\"file.yaml\")"
   ]
  },
  {
   "cell_type": "code",
   "execution_count": 79,
   "id": "930ac0d5",
   "metadata": {},
   "outputs": [
    {
     "data": {
      "text/plain": [
       "{'file_type': 'csv',\n",
       " 'file_name': 'demo1',\n",
       " 'inbound_delimiter': ',',\n",
       " 'outbound_delimiter': '|',\n",
       " 'skip_leading_rows': 1,\n",
       " 'columns': ['ym(Year + month)', 'Country', 'City']}"
      ]
     },
     "execution_count": 79,
     "metadata": {},
     "output_type": "execute_result"
    }
   ],
   "source": [
    "config_data"
   ]
  },
  {
   "cell_type": "markdown",
   "id": "3d63a7c5",
   "metadata": {},
   "source": [
    "## 2.3 Column validation"
   ]
  },
  {
   "cell_type": "code",
   "execution_count": 80,
   "id": "3ec61d53",
   "metadata": {},
   "outputs": [
    {
     "name": "stderr",
     "output_type": "stream",
     "text": [
      "FutureWarning: In a future version of pandas all arguments of read_csv except for the argument 'filepath_or_buffer' will be keyword-only.\n"
     ]
    },
    {
     "data": {
      "text/html": [
       "<div>\n",
       "<style scoped>\n",
       "    .dataframe tbody tr th:only-of-type {\n",
       "        vertical-align: middle;\n",
       "    }\n",
       "\n",
       "    .dataframe tbody tr th {\n",
       "        vertical-align: top;\n",
       "    }\n",
       "\n",
       "    .dataframe thead th {\n",
       "        text-align: right;\n",
       "    }\n",
       "</style>\n",
       "<table border=\"1\" class=\"dataframe\">\n",
       "  <thead>\n",
       "    <tr style=\"text-align: right;\">\n",
       "      <th></th>\n",
       "      <th>Unnamed: 0</th>\n",
       "      <th>ym(Year + month)</th>\n",
       "      <th>exp_imp(export: 1, import: 2)</th>\n",
       "      <th>hs9(HS code)</th>\n",
       "      <th>Customs</th>\n",
       "      <th>Country</th>\n",
       "      <th>Q1(quantity)</th>\n",
       "      <th>Q2(quantity)</th>\n",
       "      <th>Value(in thousands of yen)</th>\n",
       "    </tr>\n",
       "  </thead>\n",
       "  <tbody>\n",
       "    <tr>\n",
       "      <th>0</th>\n",
       "      <td>0</td>\n",
       "      <td>198801</td>\n",
       "      <td>1</td>\n",
       "      <td>103</td>\n",
       "      <td>100</td>\n",
       "      <td>120991000</td>\n",
       "      <td>0</td>\n",
       "      <td>1590</td>\n",
       "      <td>4154</td>\n",
       "    </tr>\n",
       "    <tr>\n",
       "      <th>1</th>\n",
       "      <td>1</td>\n",
       "      <td>198801</td>\n",
       "      <td>1</td>\n",
       "      <td>103</td>\n",
       "      <td>100</td>\n",
       "      <td>210390900</td>\n",
       "      <td>0</td>\n",
       "      <td>4500</td>\n",
       "      <td>2565</td>\n",
       "    </tr>\n",
       "    <tr>\n",
       "      <th>2</th>\n",
       "      <td>2</td>\n",
       "      <td>198801</td>\n",
       "      <td>1</td>\n",
       "      <td>103</td>\n",
       "      <td>100</td>\n",
       "      <td>220890200</td>\n",
       "      <td>0</td>\n",
       "      <td>3000</td>\n",
       "      <td>757</td>\n",
       "    </tr>\n",
       "    <tr>\n",
       "      <th>3</th>\n",
       "      <td>3</td>\n",
       "      <td>198801</td>\n",
       "      <td>1</td>\n",
       "      <td>103</td>\n",
       "      <td>100</td>\n",
       "      <td>240220000</td>\n",
       "      <td>0</td>\n",
       "      <td>26000</td>\n",
       "      <td>40668</td>\n",
       "    </tr>\n",
       "    <tr>\n",
       "      <th>4</th>\n",
       "      <td>4</td>\n",
       "      <td>198801</td>\n",
       "      <td>1</td>\n",
       "      <td>103</td>\n",
       "      <td>100</td>\n",
       "      <td>250410000</td>\n",
       "      <td>0</td>\n",
       "      <td>5</td>\n",
       "      <td>8070</td>\n",
       "    </tr>\n",
       "  </tbody>\n",
       "</table>\n",
       "</div>"
      ],
      "text/plain": [
       "   Unnamed: 0  ym(Year + month)  exp_imp(export: 1, import: 2)  hs9(HS code)  \\\n",
       "0           0            198801                              1           103   \n",
       "1           1            198801                              1           103   \n",
       "2           2            198801                              1           103   \n",
       "3           3            198801                              1           103   \n",
       "4           4            198801                              1           103   \n",
       "\n",
       "   Customs    Country  Q1(quantity)  Q2(quantity)  Value(in thousands of yen)  \n",
       "0      100  120991000             0          1590                        4154  \n",
       "1      100  210390900             0          4500                        2565  \n",
       "2      100  220890200             0          3000                         757  \n",
       "3      100  240220000             0         26000                       40668  \n",
       "4      100  250410000             0             5                        8070  "
      ]
     },
     "execution_count": 80,
     "metadata": {},
     "output_type": "execute_result"
    }
   ],
   "source": [
    "# read the file using config file\n",
    "file_type = config_data['file_type']\n",
    "source_file = \"./\" + config_data['file_name'] + f'.{file_type}'\n",
    "#print(\"\",source_file)\n",
    "df = pd.read_csv(source_file,config_data['inbound_delimiter'])\n",
    "df.head()"
   ]
  },
  {
   "cell_type": "code",
   "execution_count": 86,
   "id": "e97d35e1",
   "metadata": {
    "scrolled": true
   },
   "outputs": [
    {
     "name": "stdout",
     "output_type": "stream",
     "text": [
      "column name and column length validation failed\n",
      "Following File columns are not in the YAML file ['customs', 'q1_quantity', 'ym_year_month', 'hs9_hs_code', 'q2_quantity', 'value_in_thousands_of_yen', 'exp_imp_export_1_import_2', 'unnamed_0']\n",
      "Following YAML columns are not in the file uploaded ['city', 'ym(year + month)']\n"
     ]
    },
    {
     "data": {
      "text/plain": [
       "0"
      ]
     },
     "execution_count": 86,
     "metadata": {},
     "output_type": "execute_result"
    }
   ],
   "source": [
    "util.col_header_val(df,config_data)"
   ]
  },
  {
   "cell_type": "markdown",
   "id": "2bac76a9",
   "metadata": {},
   "source": [
    "## 2.4 Info summary"
   ]
  },
  {
   "cell_type": "code",
   "execution_count": 111,
   "id": "74ba11cf",
   "metadata": {},
   "outputs": [
    {
     "name": "stdout",
     "output_type": "stream",
     "text": [
      "Writing info.py\n"
     ]
    }
   ],
   "source": [
    "%%writefile info.py\n",
    "import pandas as pd\n",
    "import io\n",
    "\n",
    "def read_info(df):\n",
    "    print(\"The number of rows is: %d\"%df.shape[0])\n",
    "    print(\"The number of columns is: %d\"%df.shape[1])\n",
    "    buf = io.StringIO()\n",
    "    df.info(buf=buf)\n",
    "    info = buf.getvalue()\n",
    "    info = buf.getvalue().split('\\n')[-2]\n",
    "    print(info)"
   ]
  },
  {
   "cell_type": "code",
   "execution_count": 112,
   "id": "67accd1c",
   "metadata": {},
   "outputs": [
    {
     "name": "stdout",
     "output_type": "stream",
     "text": [
      "The number of rows is: 50047277\n",
      "The number of columns is: 9\n",
      "memory usage: 3.4 GB\n"
     ]
    }
   ],
   "source": [
    "import info\n",
    "\n",
    "info.read_info(df)"
   ]
  },
  {
   "cell_type": "markdown",
   "id": "93f93e5a",
   "metadata": {},
   "source": [
    "## 2.5 csv to txt in gz"
   ]
  },
  {
   "cell_type": "code",
   "execution_count": 114,
   "id": "965a7938",
   "metadata": {},
   "outputs": [],
   "source": [
    "df.to_csv('demo1.txt.gz', sep='|', compression='gzip')"
   ]
  }
 ],
 "metadata": {
  "kernelspec": {
   "display_name": "Python 3 (ipykernel)",
   "language": "python",
   "name": "python3"
  },
  "language_info": {
   "codemirror_mode": {
    "name": "ipython",
    "version": 3
   },
   "file_extension": ".py",
   "mimetype": "text/x-python",
   "name": "python",
   "nbconvert_exporter": "python",
   "pygments_lexer": "ipython3",
   "version": "3.9.12"
  }
 },
 "nbformat": 4,
 "nbformat_minor": 5
}
